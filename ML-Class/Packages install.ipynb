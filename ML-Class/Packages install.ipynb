{
 "cells": [
  {
   "cell_type": "code",
   "execution_count": 1,
   "metadata": {},
   "outputs": [],
   "source": [
    "import numpy as np"
   ]
  },
  {
   "cell_type": "code",
   "execution_count": 2,
   "metadata": {},
   "outputs": [
    {
     "ename": "ImportError",
     "evalue": "No module named pandas",
     "output_type": "error",
     "traceback": [
      "\u001b[0;31m---------------------------------------------------------------------------\u001b[0m",
      "\u001b[0;31mImportError\u001b[0m                               Traceback (most recent call last)",
      "\u001b[0;32m<ipython-input-2-7dd3504c366f>\u001b[0m in \u001b[0;36m<module>\u001b[0;34m()\u001b[0m\n\u001b[0;32m----> 1\u001b[0;31m \u001b[0;32mimport\u001b[0m \u001b[0mpandas\u001b[0m \u001b[0;32mas\u001b[0m \u001b[0mpd\u001b[0m\u001b[0;34m\u001b[0m\u001b[0m\n\u001b[0m",
      "\u001b[0;31mImportError\u001b[0m: No module named pandas"
     ]
    }
   ],
   "source": [
    "import pandas as pd"
   ]
  },
  {
   "cell_type": "code",
   "execution_count": 3,
   "metadata": {},
   "outputs": [
    {
     "ename": "ImportError",
     "evalue": "No module named sframe",
     "output_type": "error",
     "traceback": [
      "\u001b[0;31m---------------------------------------------------------------------------\u001b[0m",
      "\u001b[0;31mImportError\u001b[0m                               Traceback (most recent call last)",
      "\u001b[0;32m<ipython-input-3-8c28659d1900>\u001b[0m in \u001b[0;36m<module>\u001b[0;34m()\u001b[0m\n\u001b[0;32m----> 1\u001b[0;31m \u001b[0;32mimport\u001b[0m \u001b[0msframe\u001b[0m\u001b[0;34m\u001b[0m\u001b[0m\n\u001b[0m",
      "\u001b[0;31mImportError\u001b[0m: No module named sframe"
     ]
    }
   ],
   "source": [
    "import sframe"
   ]
  },
  {
   "cell_type": "code",
   "execution_count": 4,
   "metadata": {},
   "outputs": [],
   "source": [
    "import matplotlib.pyplot as plt"
   ]
  },
  {
   "cell_type": "code",
   "execution_count": 5,
   "metadata": {},
   "outputs": [
    {
     "name": "stdout",
     "output_type": "stream",
     "text": [
      "Collecting pandas\n",
      "  Using cached https://files.pythonhosted.org/packages/b7/e3/f52d484244105fa3d558ce8217a5190cd3d40536076bef66d92d01566325/pandas-0.23.4-cp27-cp27mu-manylinux1_x86_64.whl\n",
      "Requirement already satisfied: pytz>=2011k in /home/mwyman/sandbox/virtenv/gl-env/lib/python2.7/site-packages (from pandas) (2018.7)\n",
      "Requirement already satisfied: numpy>=1.9.0 in /home/mwyman/sandbox/virtenv/gl-env/lib/python2.7/site-packages (from pandas) (1.15.3)\n",
      "Requirement already satisfied: python-dateutil>=2.5.0 in /home/mwyman/sandbox/virtenv/gl-env/lib/python2.7/site-packages (from pandas) (2.7.3)\n",
      "Requirement already satisfied: six>=1.5 in /home/mwyman/sandbox/virtenv/gl-env/lib/python2.7/site-packages (from python-dateutil>=2.5.0->pandas) (1.11.0)\n",
      "Installing collected packages: pandas\n",
      "Successfully installed pandas-0.23.4\n",
      "\u001b[33mYou are using pip version 18.0, however version 18.1 is available.\n",
      "You should consider upgrading via the 'pip install --upgrade pip' command.\u001b[0m\n"
     ]
    }
   ],
   "source": [
    "import sys\n",
    "!{sys.executable} -m pip install pandas"
   ]
  },
  {
   "cell_type": "code",
   "execution_count": 6,
   "metadata": {},
   "outputs": [
    {
     "name": "stdout",
     "output_type": "stream",
     "text": [
      "Collecting sframe\n",
      "\u001b[?25l  Downloading https://files.pythonhosted.org/packages/5f/36/dab0adcdd54fbe2db9e60c82a6e2863eb4f4f46975028a78261cd80d034b/SFrame-2.1-py2.7.tar.gz (39.5MB)\n",
      "\u001b[K    100% |████████████████████████████████| 39.5MB 584kB/s ta 0:00:011\n",
      "\u001b[?25hRequirement already satisfied: boto==2.33.0 in /home/mwyman/sandbox/virtenv/gl-env/lib/python2.7/site-packages (from sframe) (2.33.0)\n",
      "Requirement already satisfied: decorator==4.0.9 in /home/mwyman/sandbox/virtenv/gl-env/lib/python2.7/site-packages (from sframe) (4.0.9)\n",
      "Requirement already satisfied: tornado==4.3 in /home/mwyman/sandbox/virtenv/gl-env/lib/python2.7/site-packages (from sframe) (4.3)\n",
      "Requirement already satisfied: prettytable==0.7.2 in /home/mwyman/sandbox/virtenv/gl-env/lib/python2.7/site-packages (from sframe) (0.7.2)\n",
      "Requirement already satisfied: requests==2.9.1 in /home/mwyman/sandbox/virtenv/gl-env/lib/python2.7/site-packages (from sframe) (2.9.1)\n",
      "Requirement already satisfied: awscli==1.6.2 in /home/mwyman/sandbox/virtenv/gl-env/lib/python2.7/site-packages (from sframe) (1.6.2)\n",
      "Requirement already satisfied: multipledispatch>=0.4.7 in /home/mwyman/sandbox/virtenv/gl-env/lib/python2.7/site-packages (from sframe) (0.6.0)\n",
      "Requirement already satisfied: certifi==2015.04.28 in /home/mwyman/sandbox/virtenv/gl-env/lib/python2.7/site-packages (from sframe) (2015.4.28)\n",
      "Requirement already satisfied: backports.ssl_match_hostname in /home/mwyman/sandbox/virtenv/gl-env/lib/python2.7/site-packages (from tornado==4.3->sframe) (3.5.0.1)\n",
      "Requirement already satisfied: singledispatch in /home/mwyman/sandbox/virtenv/gl-env/lib/python2.7/site-packages (from tornado==4.3->sframe) (3.4.0.3)\n",
      "Requirement already satisfied: backports_abc>=0.4 in /home/mwyman/sandbox/virtenv/gl-env/lib/python2.7/site-packages (from tornado==4.3->sframe) (0.5)\n",
      "Requirement already satisfied: botocore<0.74.0,>=0.73.0 in /home/mwyman/sandbox/virtenv/gl-env/lib/python2.7/site-packages (from awscli==1.6.2->sframe) (0.73.0)\n",
      "Requirement already satisfied: bcdoc<0.13.0,>=0.12.0 in /home/mwyman/sandbox/virtenv/gl-env/lib/python2.7/site-packages (from awscli==1.6.2->sframe) (0.12.2)\n",
      "Requirement already satisfied: six>=1.1.0 in /home/mwyman/sandbox/virtenv/gl-env/lib/python2.7/site-packages (from awscli==1.6.2->sframe) (1.11.0)\n",
      "Requirement already satisfied: colorama==0.2.5 in /home/mwyman/sandbox/virtenv/gl-env/lib/python2.7/site-packages (from awscli==1.6.2->sframe) (0.2.5)\n",
      "Requirement already satisfied: docutils>=0.10 in /home/mwyman/sandbox/virtenv/gl-env/lib/python2.7/site-packages (from awscli==1.6.2->sframe) (0.14)\n",
      "Requirement already satisfied: rsa==3.1.2 in /home/mwyman/sandbox/virtenv/gl-env/lib/python2.7/site-packages (from awscli==1.6.2->sframe) (3.1.2)\n",
      "Requirement already satisfied: jmespath==0.5.0 in /home/mwyman/sandbox/virtenv/gl-env/lib/python2.7/site-packages (from botocore<0.74.0,>=0.73.0->awscli==1.6.2->sframe) (0.5.0)\n",
      "Requirement already satisfied: python-dateutil>=2.1 in /home/mwyman/sandbox/virtenv/gl-env/lib/python2.7/site-packages (from botocore<0.74.0,>=0.73.0->awscli==1.6.2->sframe) (2.7.3)\n",
      "Requirement already satisfied: pyasn1>=0.1.3 in /home/mwyman/sandbox/virtenv/gl-env/lib/python2.7/site-packages (from rsa==3.1.2->awscli==1.6.2->sframe) (0.4.4)\n",
      "Building wheels for collected packages: sframe\n",
      "  Running setup.py bdist_wheel for sframe ... \u001b[?25ldone\n",
      "\u001b[?25h  Stored in directory: /home/mwyman/.cache/pip/wheels/1a/15/e9/744e4f6bd73e8a51274918f786df0d2580abdc449fea197ae4\n",
      "Successfully built sframe\n",
      "Installing collected packages: sframe\n",
      "Successfully installed sframe-2.1\n",
      "\u001b[33mYou are using pip version 18.0, however version 18.1 is available.\n",
      "You should consider upgrading via the 'pip install --upgrade pip' command.\u001b[0m\n"
     ]
    }
   ],
   "source": [
    "import sys\n",
    "!{sys.executable} -m pip install sframe"
   ]
  },
  {
   "cell_type": "code",
   "execution_count": 7,
   "metadata": {},
   "outputs": [
    {
     "name": "stdout",
     "output_type": "stream",
     "text": [
      "Collecting scikit-learn\n",
      "\u001b[?25l  Downloading https://files.pythonhosted.org/packages/93/5f/a7b89db4915ad20f25dde7c36e9cbc8fc6adb4a1ef65a999ef1ffc379316/scikit_learn-0.20.1-cp27-cp27mu-manylinux1_x86_64.whl (5.5MB)\n",
      "\u001b[K    100% |████████████████████████████████| 5.5MB 1.1MB/s ta 0:00:01\n",
      "\u001b[?25hRequirement already satisfied: numpy>=1.8.2 in /home/mwyman/sandbox/virtenv/gl-env/lib/python2.7/site-packages (from scikit-learn) (1.15.3)\n",
      "Collecting scipy>=0.13.3 (from scikit-learn)\n",
      "  Using cached https://files.pythonhosted.org/packages/2a/f3/de9c1bd16311982711209edaa8c6caa962db30ebb6a8cc6f1dcd2d3ef616/scipy-1.1.0-cp27-cp27mu-manylinux1_x86_64.whl\n",
      "Installing collected packages: scipy, scikit-learn\n",
      "Successfully installed scikit-learn-0.20.1 scipy-1.1.0\n",
      "\u001b[33mYou are using pip version 18.0, however version 18.1 is available.\n",
      "You should consider upgrading via the 'pip install --upgrade pip' command.\u001b[0m\n"
     ]
    }
   ],
   "source": [
    "import sys\n",
    "!{sys.executable} -m pip install scikit-learn"
   ]
  },
  {
   "cell_type": "code",
   "execution_count": 1,
   "metadata": {},
   "outputs": [
    {
     "name": "stdout",
     "output_type": "stream",
     "text": [
      "Collecting graphviz\n",
      "  Downloading https://files.pythonhosted.org/packages/1f/e2/ef2581b5b86625657afd32030f90cf2717456c1d2b711ba074bf007c0f1a/graphviz-0.10.1-py2.py3-none-any.whl\n",
      "Installing collected packages: graphviz\n",
      "Successfully installed graphviz-0.10.1\n",
      "\u001b[33mYou are using pip version 18.0, however version 18.1 is available.\n",
      "You should consider upgrading via the 'pip install --upgrade pip' command.\u001b[0m\n"
     ]
    }
   ],
   "source": [
    "import sys\n",
    "!{sys.executable} -m pip install graphviz"
   ]
  },
  {
   "cell_type": "code",
   "execution_count": null,
   "metadata": {},
   "outputs": [],
   "source": []
  }
 ],
 "metadata": {
  "kernelspec": {
   "display_name": "Python 2",
   "language": "python",
   "name": "python2"
  },
  "language_info": {
   "codemirror_mode": {
    "name": "ipython",
    "version": 2
   },
   "file_extension": ".py",
   "mimetype": "text/x-python",
   "name": "python",
   "nbconvert_exporter": "python",
   "pygments_lexer": "ipython2",
   "version": "2.7.5"
  }
 },
 "nbformat": 4,
 "nbformat_minor": 2
}
